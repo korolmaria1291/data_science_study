{
 "cells": [
  {
   "cell_type": "markdown",
   "id": "b22fbbe2",
   "metadata": {},
   "source": [
    "# Игра угадай число"
   ]
  },
  {
   "cell_type": "code",
   "execution_count": 8,
   "id": "846b8a34",
   "metadata": {},
   "outputs": [],
   "source": [
    "import game_1"
   ]
  },
  {
   "cell_type": "code",
   "execution_count": 17,
   "id": "ce129936",
   "metadata": {},
   "outputs": [],
   "source": [
    "import evaluation_function"
   ]
  },
  {
   "cell_type": "markdown",
   "id": "b4eeaf55",
   "metadata": {},
   "source": [
    "## Угадываем рандомно"
   ]
  },
  {
   "cell_type": "code",
   "execution_count": 18,
   "id": "b533ad8e",
   "metadata": {},
   "outputs": [
    {
     "name": "stdout",
     "output_type": "stream",
     "text": [
      "Ваш алгоритм угадывает число в среднем за: 101 попыток\n"
     ]
    },
    {
     "data": {
      "text/plain": [
       "101"
      ]
     },
     "execution_count": 18,
     "metadata": {},
     "output_type": "execute_result"
    }
   ],
   "source": [
    "score_game(random_predict) #вызов функции"
   ]
  },
  {
   "cell_type": "markdown",
   "id": "8e1e7ecb",
   "metadata": {},
   "source": [
    "## Подход 2: Угадывание с коррекцией"
   ]
  },
  {
   "cell_type": "code",
   "execution_count": 13,
   "id": "5e153d61",
   "metadata": {},
   "outputs": [],
   "source": [
    "import game_2"
   ]
  },
  {
   "cell_type": "markdown",
   "id": "2dc9a297",
   "metadata": {},
   "source": [
    "## Оценка работы алгоритмов"
   ]
  },
  {
   "cell_type": "code",
   "execution_count": 19,
   "id": "4624b15a",
   "metadata": {},
   "outputs": [
    {
     "name": "stdout",
     "output_type": "stream",
     "text": [
      "Run benchmarking for random_predict: Ваш алгоритм угадывает число в среднем за: 101 попыток\n",
      "Run benchmarking for game_core_v2: Ваш алгоритм угадывает число в среднем за: 32 попыток\n"
     ]
    },
    {
     "data": {
      "text/plain": [
       "32"
      ]
     },
     "execution_count": 19,
     "metadata": {},
     "output_type": "execute_result"
    }
   ],
   "source": [
    "#Run benchmarking to score effectiveness of all algorithms\n",
    "print('Run benchmarking for random_predict: ', end='')\n",
    "score_game(random_predict)\n",
    "\n",
    "print('Run benchmarking for game_core_v2: ', end='')\n",
    "score_game(game_core_v2)"
   ]
  },
  {
   "cell_type": "markdown",
   "id": "a2ac04ce",
   "metadata": {},
   "source": [
    "## Подход 3: Необходимо добиться того, чтобы программа угадывала число меньше, чем за 20 попыток"
   ]
  },
  {
   "cell_type": "code",
   "execution_count": 20,
   "id": "322df89e",
   "metadata": {},
   "outputs": [],
   "source": [
    "from game_3 import game_core_v3"
   ]
  },
  {
   "cell_type": "markdown",
   "id": "4da44a0e",
   "metadata": {},
   "source": [
    "## Оценим качество третьего подхода"
   ]
  },
  {
   "cell_type": "code",
   "execution_count": 21,
   "id": "d7daa9eb",
   "metadata": {},
   "outputs": [
    {
     "name": "stdout",
     "output_type": "stream",
     "text": [
      "Run benchmarking for game_core_v3: Ваш алгоритм угадывает число в среднем за: 5 попыток\n"
     ]
    },
    {
     "data": {
      "text/plain": [
       "5"
      ]
     },
     "execution_count": 21,
     "metadata": {},
     "output_type": "execute_result"
    }
   ],
   "source": [
    "print('Run benchmarking for game_core_v3: ', end='')\n",
    "score_game(game_core_v3)"
   ]
  }
 ],
 "metadata": {
  "kernelspec": {
   "display_name": "Python 3",
   "language": "python",
   "name": "python3"
  },
  "language_info": {
   "codemirror_mode": {
    "name": "ipython",
    "version": 3
   },
   "file_extension": ".py",
   "mimetype": "text/x-python",
   "name": "python",
   "nbconvert_exporter": "python",
   "pygments_lexer": "ipython3",
   "version": "3.13.1"
  }
 },
 "nbformat": 4,
 "nbformat_minor": 5
}
